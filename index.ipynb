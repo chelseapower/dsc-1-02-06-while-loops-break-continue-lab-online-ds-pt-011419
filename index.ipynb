{
 "cells": [
  {
   "cell_type": "markdown",
   "metadata": {},
   "source": [
    "# While Loops, Break and Continue - Lab"
   ]
  },
  {
   "cell_type": "markdown",
   "metadata": {},
   "source": [
    "## Introduction\n",
    "In this lab, we will practice using `while` loops, and `break` and `continue` statements in our code. We will use our control flow statements to iterate through collections and filter out or selectively operate on each element. We'll use `while` loops to perform operations until a given condition is no longer true."
   ]
  },
  {
   "cell_type": "markdown",
   "metadata": {},
   "source": [
    "## Objectives\n",
    "You will be able to:\n",
    "* Use a break and continue statements inside a loop\n",
    "* Understand, explain and use while loops"
   ]
  },
  {
   "cell_type": "markdown",
   "metadata": {},
   "source": [
    "## Instructions\n",
    "\n",
    "### While Loops\n",
    "Use while loops to perform the below operations and get the expected return values"
   ]
  },
  {
   "cell_type": "code",
   "execution_count": 1,
   "metadata": {},
   "outputs": [
    {
     "name": "stdout",
     "output_type": "stream",
     "text": [
      "1 slice\n",
      "2 slice\n",
      "3 slice\n",
      "4 slice\n",
      "5 slice\n",
      "6 slice\n"
     ]
    }
   ],
   "source": [
    "slices_of_pie = 6\n",
    "slices_eaten = 0\n",
    "# use a while loop to eat each slice of pie\n",
    "# add each slice to the slices_eaten variable\n",
    "while slices_eaten < 6: # use a while loop to eat each slice of pie\n",
    "    slices_eaten = slices_eaten+1 # add each slice to the slices_eaten variable\n",
    "    print(slices_eaten, \"slice\") \n",
    "    continue"
   ]
  },
  {
   "cell_type": "code",
   "execution_count": 2,
   "metadata": {},
   "outputs": [
    {
     "name": "stdout",
     "output_type": "stream",
     "text": [
      "1 cooked. Remaining time for breakfast: 1414 seconds\n",
      "2 cooked. Remaining time for breakfast: 1360 seconds\n",
      "3 cooked. Remaining time for breakfast: 1252 seconds\n",
      "4 cooked. Remaining time for breakfast: 1036 seconds\n",
      "5 cooked. Remaining time for breakfast: 604 seconds\n"
     ]
    }
   ],
   "source": [
    "time_for_breakfast = 1468 # in seconds\n",
    "pancake = 27 # in seconds per side\n",
    "number_of_cooked_pancakes = 0\n",
    "\n",
    "while number_of_cooked_pancakes < 5: # use a while loop to make yourself 5 pancakes for breakfast\n",
    "    number_of_cooked_pancakes = number_of_cooked_pancakes+1\n",
    "    pancake = pancake*2 # each pancake takes 27 seconds to cook on each side\n",
    "    print(number_of_cooked_pancakes, \"cooked. Remaining time for breakfast:\", time_for_breakfast - pancake, \"seconds\") # you must decrease the time_for_breakfast each time you \n",
    "    continue\n",
    "# add a pancake to the skillet (frying pan) or flip a pancake (i.e. 2 times per pancake)\n",
    "# there is only room for one pancake at a time"
   ]
  },
  {
   "cell_type": "markdown",
   "metadata": {},
   "source": [
    "## For Loops"
   ]
  },
  {
   "cell_type": "markdown",
   "metadata": {},
   "source": [
    "> **Hint:** You may find the [remove method](https://www.programiz.com/python-programming/methods/list/remove) to be useful for the next problem"
   ]
  },
  {
   "cell_type": "code",
   "execution_count": 3,
   "metadata": {},
   "outputs": [
    {
     "name": "stdout",
     "output_type": "stream",
     "text": [
      "Those hungry: [1, 3, 5, 7, 9, 11, 13, 15, 17, 19, 21, 23, 25, 27, 29]\n",
      "Thos fed: [0, 2, 4, 6, 8, 10, 12, 14, 16, 18, 20, 22, 24, 26, 28]\n"
     ]
    }
   ],
   "source": [
    "line_of_hungry_patrons = list(range(0,30))\n",
    "fed_patrons = []\n",
    "# use a for or while loop to to feed the hungry patrons who have an even number\n",
    "# add the patrons with an even number to the fed_patrons list\n",
    "# then remove the even numbered patrons from the line_of_hungry_patrons\n",
    "# each list should contain 15 elements\n",
    "for patron in line_of_hungry_patrons:\n",
    "    if patron % 2 == 0:\n",
    "        line_of_hungry_patrons.remove(patron)\n",
    "        fed_patrons.append(patron)\n",
    "print('Those hungry:', line_of_hungry_patrons)\n",
    "print('Thos fed:', fed_patrons)"
   ]
  },
  {
   "cell_type": "markdown",
   "metadata": {},
   "source": [
    "### `break` And `continue` Statements"
   ]
  },
  {
   "cell_type": "markdown",
   "metadata": {},
   "source": [
    "We have a list of person objects with all kinds of attributes. We'll use loops to find a person that meets a certain requirement that we are looking for or create new lists with a certain subset of elements. Write for loops with conditional statements in conjunction with `break` and `continue` to get the desired output."
   ]
  },
  {
   "cell_type": "code",
   "execution_count": 4,
   "metadata": {},
   "outputs": [],
   "source": [
    "people = [\n",
    "    {'name': \"Daniel\", 'age': 29, 'job': \"Engineer\", 'pet': \"Cat\", 'pet_name': \"Gato\"}, \n",
    "    {'name': \"Katie\", 'age': 30, 'job': \"Teacher\", 'pet': \"Dog\", 'pet_name': \"Frank\"},\n",
    "    {'name': \"Owen\", 'age': 26, 'job': \"Sales person\", 'pet': \"Cat\", 'pet_name': \"Cosmo\"},\n",
    "    {'name': \"Josh\", 'age': 22, 'job': \"Student\", 'pet': \"Cat\", 'pet_name': \"Chat\"},\n",
    "    {'name': \"Estelle\", 'age': 35, 'job': \"French Diplomat\", 'pet': \"Dog\", 'pet_name': \"Gabby\"},\n",
    "    {'name': \"Gustav\", 'age': 24, 'job': \"Brewer\", 'pet': \"Dog\", 'pet_name': \"Helen\"}\n",
    "]"
   ]
  },
  {
   "cell_type": "code",
   "execution_count": 5,
   "metadata": {},
   "outputs": [
    {
     "name": "stdout",
     "output_type": "stream",
     "text": [
      "Katie has a dog! Had to check 2 records to find a dog owneer.\n"
     ]
    }
   ],
   "source": [
    "# use the for loop below to find the *first* person in the list of people that has a dog as their pet\n",
    "# the iteration count shouldn't exceed 2 iterations\n",
    "first_dog_person = None\n",
    "iteration_count = 0\n",
    "\n",
    "for person in people:\n",
    "    iteration_count += 1\n",
    "    if person['pet'] == 'Dog':\n",
    "        print('{} has a dog! Had to check {} records to find a dog owneer.'.format(person['name'], iteration_count))\n",
    "        break"
   ]
  },
  {
   "cell_type": "code",
   "execution_count": 6,
   "metadata": {},
   "outputs": [
    {
     "data": {
      "text/plain": [
       "[{'name': 'Owen',\n",
       "  'age': 26,\n",
       "  'job': 'Sales person',\n",
       "  'pet': 'Cat',\n",
       "  'pet_name': 'Cosmo'},\n",
       " {'name': 'Josh',\n",
       "  'age': 22,\n",
       "  'job': 'Student',\n",
       "  'pet': 'Cat',\n",
       "  'pet_name': 'Chat'}]"
      ]
     },
     "execution_count": 6,
     "metadata": {},
     "output_type": "execute_result"
    }
   ],
   "source": [
    "# use a for loop to create a list of the cat owners who are under the age of 28\n",
    "cat_owners = []\n",
    "\n",
    "# for loop goes here\n",
    "for person in people:\n",
    "    if person['age'] < 28 and person['pet'] == \"Cat\":\n",
    "        cat_owners.append(person)\n",
    "cat_owners"
   ]
  },
  {
   "cell_type": "code",
   "execution_count": 7,
   "metadata": {},
   "outputs": [
    {
     "name": "stdout",
     "output_type": "stream",
     "text": [
      "People over 29:\n",
      "Katie is 2.\n"
     ]
    }
   ],
   "source": [
    "# use a for loop to find the first person who is above 29 years old in our list of people\n",
    "# remember to use a break and or continue statement\n",
    "thirty_something_yr_old = None\n",
    "\n",
    "# for loop goes here\n",
    "print(\"People over 29:\")\n",
    "for person in people:\n",
    "    if person['age'] > 29:\n",
    "        print('{} is {}.'.format(person['name'], iteration_count))\n",
    "        break"
   ]
  },
  {
   "cell_type": "code",
   "execution_count": 8,
   "metadata": {},
   "outputs": [
    {
     "name": "stdout",
     "output_type": "stream",
     "text": [
      "Katie is the dog owner and Frank is his/her dog.\n",
      "Estelle is the dog owner and Gabby is his/her dog.\n",
      "Gustav is the dog owner and Helen is his/her dog.\n"
     ]
    }
   ],
   "source": [
    "# use a for loop to create a list of person names and another list of pet names for all dog owners\n",
    "dog_owner_names = []\n",
    "dog_names = []\n",
    "# for loop goes here\n",
    "for person in people:\n",
    "    if person['pet'] == 'Dog':\n",
    "        dog_owner_names.append(person['name'])\n",
    "        dog_names.append(person['pet_name'])\n",
    "        print('{} is the dog owner and {} is his/her dog.'.format(person['name'], person['pet_name']))\n",
    "    else:\n",
    "        continue"
   ]
  },
  {
   "cell_type": "code",
   "execution_count": 9,
   "metadata": {},
   "outputs": [
    {
     "name": "stdout",
     "output_type": "stream",
     "text": [
      "Daniel is the cat owner and Gato is his/her cat.\n",
      "Owen is the cat owner and Cosmo is his/her cat.\n",
      "Josh is the cat owner and Chat is his/her cat.\n"
     ]
    }
   ],
   "source": [
    "# use a for loop to create a list of odd numbers from the list of numbers from 0 to 100\n",
    "# each time there is an odd number, add 10 to it and append it to the list_of_odd_numbers_plus_ten\n",
    "# stop adding numbers to the list when there are 35 numbers\n",
    "# use break and continue statements in your code\n",
    "cat_owner_names = []\n",
    "cat_names = []\n",
    "# for loop goes here\n",
    "for person in people:\n",
    "    if person['pet'] == 'Cat':\n",
    "        cat_owner_names.append(person['name'])\n",
    "        cat_names.append(person['pet_name'])\n",
    "        print('{} is the cat owner and {} is his/her cat.'.format(person['name'], person['pet_name']))\n",
    "    else:\n",
    "        continue"
   ]
  },
  {
   "cell_type": "code",
   "execution_count": 10,
   "metadata": {},
   "outputs": [
    {
     "name": "stdout",
     "output_type": "stream",
     "text": [
      "Sum: 1575\n"
     ]
    }
   ],
   "source": [
    "# use a for loop to create a list of odd numbers from the list of numbers from 0 to 100\n",
    "# each time there is an odd number, add 10 to it and append it to the list_of_odd_numbers_plus_ten\n",
    "# stop adding numbers to the list when there are 35 numbers\n",
    "# use break and continue statements in your code\n",
    "list_of_numbers = list(range(0,100))\n",
    "list_of_odd_numbers_plus_ten = []\n",
    "for number in list_of_numbers:\n",
    "    if number % 2 == 1:\n",
    "        list_of_odd_numbers_plus_ten.append(number+10)\n",
    "    else:\n",
    "        pass\n",
    "    if len(list_of_odd_numbers_plus_ten) >= 35:\n",
    "        break\n",
    "    else:\n",
    "        continue\n",
    "print('Sum:', sum(list_of_odd_numbers_plus_ten))"
   ]
  },
  {
   "cell_type": "markdown",
   "metadata": {},
   "source": [
    "## Summary"
   ]
  },
  {
   "cell_type": "markdown",
   "metadata": {},
   "source": [
    "In this lab, we practiced using while loops, which continue executing their block of code until the given condition is no longer truthy. This is useful for instances where we do not have a collection or do not need a collection to solve our problem, especially when we would only like to stop the process according to a certain condition. We then practiced using control flow statements, `break` and `continue`, to selectively operate on elements, append them to new lists, or assign them to new variables."
   ]
  }
 ],
 "metadata": {
  "kernelspec": {
   "display_name": "learn-env",
   "language": "python",
   "name": "learn-env"
  },
  "language_info": {
   "codemirror_mode": {
    "name": "ipython",
    "version": 3
   },
   "file_extension": ".py",
   "mimetype": "text/x-python",
   "name": "python",
   "nbconvert_exporter": "python",
   "pygments_lexer": "ipython3",
   "version": "3.6.8"
  }
 },
 "nbformat": 4,
 "nbformat_minor": 2
}
